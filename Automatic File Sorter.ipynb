{
 "cells": [
  {
   "cell_type": "code",
   "execution_count": 6,
   "id": "a8c50b7b-ff26-4a83-a7cb-601193c29ebd",
   "metadata": {},
   "outputs": [],
   "source": [
    "import os,shutil"
   ]
  },
  {
   "cell_type": "code",
   "execution_count": 66,
   "id": "2ee1ecd6-bc94-4762-b047-d4bd098c9a43",
   "metadata": {},
   "outputs": [],
   "source": [
    "path= r\"E:/Downloads/file sorter//\""
   ]
  },
  {
   "cell_type": "code",
   "execution_count": 56,
   "id": "0a6005a2-2b02-4277-825d-4d8eb8df6b8f",
   "metadata": {},
   "outputs": [],
   "source": []
  },
  {
   "cell_type": "code",
   "execution_count": 68,
   "id": "87b695d4-2c67-4f92-9058-f13c5f4ab225",
   "metadata": {},
   "outputs": [
    {
     "name": "stdout",
     "output_type": "stream",
     "text": [
      "E:/Downloads/file sorter//excel files\n",
      "E:/Downloads/file sorter//image files\n",
      "E:/Downloads/file sorter//text files\n"
     ]
    }
   ],
   "source": [
    "folder_names=['excel files','image files', 'text files']\n",
    "for loop in range(0,3):\n",
    "    if not os.path.exists(path+folder_names[loop]):\n",
    "        print(path+folder_names[loop])\n",
    "        os.makedirs(path+folder_names[loop])"
   ]
  },
  {
   "cell_type": "code",
   "execution_count": 64,
   "id": "21e63065-f618-4468-946a-15dbc352e90a",
   "metadata": {},
   "outputs": [],
   "source": [
    "file_names=os.listdir(path)\n",
    "for file in file_names:\n",
    "    if \".xlsx\" in file and not os.path.exists(path+\"excel files/\"+file):\n",
    "        shutil.move(path+file,path+\"excel files/\"+file)\n",
    "    elif \".png\" in file and not os.path.exists(path+\"image files/\"+file):\n",
    "        shutil.move(path+file,path+\"image files/\"+file)\n",
    "    elif \".text\" in file and not os.path.exists(path+\"text files/\"+file):\n",
    "        shutil.move(path+file,path+\"text files/\"+file)\n",
    "    else:\n",
    "        print(\"there are files in this path that were not moved\")\n",
    "    \n"
   ]
  },
  {
   "cell_type": "code",
   "execution_count": null,
   "id": "b2a25245-1f20-400a-9108-15a7ed995807",
   "metadata": {},
   "outputs": [],
   "source": []
  }
 ],
 "metadata": {
  "kernelspec": {
   "display_name": "Python 3 (ipykernel)",
   "language": "python",
   "name": "python3"
  },
  "language_info": {
   "codemirror_mode": {
    "name": "ipython",
    "version": 3
   },
   "file_extension": ".py",
   "mimetype": "text/x-python",
   "name": "python",
   "nbconvert_exporter": "python",
   "pygments_lexer": "ipython3",
   "version": "3.11.7"
  }
 },
 "nbformat": 4,
 "nbformat_minor": 5
}
